{
 "cells": [
  {
   "cell_type": "code",
   "id": "initial_id",
   "metadata": {
    "collapsed": true,
    "ExecuteTime": {
     "end_time": "2025-04-30T11:06:11.294850Z",
     "start_time": "2025-04-30T11:06:11.288465Z"
    }
   },
   "source": [
    "import pandas as pd\n",
    "from sqlalchemy import create_engine\n",
    "import plotly.express as px"
   ],
   "outputs": [],
   "execution_count": 16
  },
  {
   "metadata": {
    "ExecuteTime": {
     "end_time": "2025-04-30T11:06:11.303025Z",
     "start_time": "2025-04-30T11:06:11.299798Z"
    }
   },
   "cell_type": "code",
   "source": "engine = create_engine(f\"sqlite:///nba.db\")",
   "id": "24bace46b7c31ff7",
   "outputs": [],
   "execution_count": 17
  },
  {
   "metadata": {
    "ExecuteTime": {
     "end_time": "2025-04-30T11:06:11.315909Z",
     "start_time": "2025-04-30T11:06:11.313556Z"
    }
   },
   "cell_type": "code",
   "source": [
    "query = \"\"\"\n",
    "SELECT *\n",
    "FROM players\n",
    "WHERE season = \"2024-25\" and game_type = \"Regular Season\"\n",
    "order by PPG desc\n",
    "LIMIT 10\n",
    "\"\"\""
   ],
   "id": "f20d6796792615ae",
   "outputs": [],
   "execution_count": 18
  },
  {
   "metadata": {
    "ExecuteTime": {
     "end_time": "2025-04-30T11:06:11.329787Z",
     "start_time": "2025-04-30T11:06:11.323059Z"
    }
   },
   "cell_type": "code",
   "source": "df = pd.read_sql(query, engine)",
   "id": "8e77efaa34e8c503",
   "outputs": [],
   "execution_count": 19
  },
  {
   "metadata": {
    "ExecuteTime": {
     "end_time": "2025-04-30T11:06:11.345827Z",
     "start_time": "2025-04-30T11:06:11.337365Z"
    }
   },
   "cell_type": "code",
   "source": "df",
   "id": "505222fed27110a7",
   "outputs": [
    {
     "data": {
      "text/plain": [
       "   PLAYER_ID              PLAYER_NAME NICKNAME     TEAM_ID TEAM_ABBREVIATION  \\\n",
       "0    1628983  Shai Gilgeous-Alexander     Shai  1610612760               OKC   \n",
       "1     203507    Giannis Antetokounmpo  Giannis  1610612749               MIL   \n",
       "2     203999             Nikola Jokić   Nikola  1610612743               DEN   \n",
       "3    1629029              Luka Dončić     Luka  1610612747               LAL   \n",
       "4    1630162          Anthony Edwards  Anthony  1610612750               MIN   \n",
       "5    1628369             Jayson Tatum   Jayson  1610612738               BOS   \n",
       "6     201142             Kevin Durant    Kevin  1610612756               PHX   \n",
       "7    1630178             Tyrese Maxey   Tyrese  1610612755               PHI   \n",
       "8    1630595          Cade Cunningham     Cade  1610612765               DET   \n",
       "9    1628973            Jalen Brunson    Jalen  1610612752               NYK   \n",
       "\n",
       "    AGE  GP   W   L  W_PCT  ...  TD3_RANK  WNBA_FANTASY_PTS_RANK   season  \\\n",
       "0  26.0  76  63  13  0.829  ...        44                      2  2024-25   \n",
       "1  30.0  67  40  27  0.597  ...         2                      4  2024-25   \n",
       "2  30.0  70  46  24  0.657  ...         1                      1  2024-25   \n",
       "3  26.0  50  31  19  0.620  ...         8                     33  2024-25   \n",
       "4  23.0  79  48  31  0.608  ...        44                      3  2024-25   \n",
       "5  27.0  72  53  19  0.736  ...        15                      6  2024-25   \n",
       "6  36.0  62  33  29  0.532  ...        44                     24  2024-25   \n",
       "7  24.0  52  20  32  0.385  ...        20                     56  2024-25   \n",
       "8  23.0  70  38  32  0.543  ...         5                      8  2024-25   \n",
       "9  28.0  65  40  25  0.615  ...        44                     28  2024-25   \n",
       "\n",
       "        game_type   PPG   APG   RPG  SPG  BPG  TOPG  \n",
       "0  Regular Season  32.7   6.4   5.0  1.7  1.0   2.4  \n",
       "1  Regular Season  30.4   6.5  11.9  0.9  1.2   3.1  \n",
       "2  Regular Season  29.6  10.2  12.7  1.8  0.6   3.3  \n",
       "3  Regular Season  28.2   7.7   8.2  1.8  0.4   3.6  \n",
       "4  Regular Season  27.6   4.5   5.7  1.2  0.6   3.2  \n",
       "5  Regular Season  26.8   6.0   8.7  1.1  0.5   2.9  \n",
       "6  Regular Season  26.6   4.2   6.0  0.8  1.2   3.1  \n",
       "7  Regular Season  26.3   6.1   3.3  1.8  0.4   2.4  \n",
       "8  Regular Season  26.1   9.1   6.1  1.0  0.8   4.4  \n",
       "9  Regular Season  26.0   7.3   2.9  0.9  0.1   2.5  \n",
       "\n",
       "[10 rows x 74 columns]"
      ],
      "text/html": [
       "<div>\n",
       "<style scoped>\n",
       "    .dataframe tbody tr th:only-of-type {\n",
       "        vertical-align: middle;\n",
       "    }\n",
       "\n",
       "    .dataframe tbody tr th {\n",
       "        vertical-align: top;\n",
       "    }\n",
       "\n",
       "    .dataframe thead th {\n",
       "        text-align: right;\n",
       "    }\n",
       "</style>\n",
       "<table border=\"1\" class=\"dataframe\">\n",
       "  <thead>\n",
       "    <tr style=\"text-align: right;\">\n",
       "      <th></th>\n",
       "      <th>PLAYER_ID</th>\n",
       "      <th>PLAYER_NAME</th>\n",
       "      <th>NICKNAME</th>\n",
       "      <th>TEAM_ID</th>\n",
       "      <th>TEAM_ABBREVIATION</th>\n",
       "      <th>AGE</th>\n",
       "      <th>GP</th>\n",
       "      <th>W</th>\n",
       "      <th>L</th>\n",
       "      <th>W_PCT</th>\n",
       "      <th>...</th>\n",
       "      <th>TD3_RANK</th>\n",
       "      <th>WNBA_FANTASY_PTS_RANK</th>\n",
       "      <th>season</th>\n",
       "      <th>game_type</th>\n",
       "      <th>PPG</th>\n",
       "      <th>APG</th>\n",
       "      <th>RPG</th>\n",
       "      <th>SPG</th>\n",
       "      <th>BPG</th>\n",
       "      <th>TOPG</th>\n",
       "    </tr>\n",
       "  </thead>\n",
       "  <tbody>\n",
       "    <tr>\n",
       "      <th>0</th>\n",
       "      <td>1628983</td>\n",
       "      <td>Shai Gilgeous-Alexander</td>\n",
       "      <td>Shai</td>\n",
       "      <td>1610612760</td>\n",
       "      <td>OKC</td>\n",
       "      <td>26.0</td>\n",
       "      <td>76</td>\n",
       "      <td>63</td>\n",
       "      <td>13</td>\n",
       "      <td>0.829</td>\n",
       "      <td>...</td>\n",
       "      <td>44</td>\n",
       "      <td>2</td>\n",
       "      <td>2024-25</td>\n",
       "      <td>Regular Season</td>\n",
       "      <td>32.7</td>\n",
       "      <td>6.4</td>\n",
       "      <td>5.0</td>\n",
       "      <td>1.7</td>\n",
       "      <td>1.0</td>\n",
       "      <td>2.4</td>\n",
       "    </tr>\n",
       "    <tr>\n",
       "      <th>1</th>\n",
       "      <td>203507</td>\n",
       "      <td>Giannis Antetokounmpo</td>\n",
       "      <td>Giannis</td>\n",
       "      <td>1610612749</td>\n",
       "      <td>MIL</td>\n",
       "      <td>30.0</td>\n",
       "      <td>67</td>\n",
       "      <td>40</td>\n",
       "      <td>27</td>\n",
       "      <td>0.597</td>\n",
       "      <td>...</td>\n",
       "      <td>2</td>\n",
       "      <td>4</td>\n",
       "      <td>2024-25</td>\n",
       "      <td>Regular Season</td>\n",
       "      <td>30.4</td>\n",
       "      <td>6.5</td>\n",
       "      <td>11.9</td>\n",
       "      <td>0.9</td>\n",
       "      <td>1.2</td>\n",
       "      <td>3.1</td>\n",
       "    </tr>\n",
       "    <tr>\n",
       "      <th>2</th>\n",
       "      <td>203999</td>\n",
       "      <td>Nikola Jokić</td>\n",
       "      <td>Nikola</td>\n",
       "      <td>1610612743</td>\n",
       "      <td>DEN</td>\n",
       "      <td>30.0</td>\n",
       "      <td>70</td>\n",
       "      <td>46</td>\n",
       "      <td>24</td>\n",
       "      <td>0.657</td>\n",
       "      <td>...</td>\n",
       "      <td>1</td>\n",
       "      <td>1</td>\n",
       "      <td>2024-25</td>\n",
       "      <td>Regular Season</td>\n",
       "      <td>29.6</td>\n",
       "      <td>10.2</td>\n",
       "      <td>12.7</td>\n",
       "      <td>1.8</td>\n",
       "      <td>0.6</td>\n",
       "      <td>3.3</td>\n",
       "    </tr>\n",
       "    <tr>\n",
       "      <th>3</th>\n",
       "      <td>1629029</td>\n",
       "      <td>Luka Dončić</td>\n",
       "      <td>Luka</td>\n",
       "      <td>1610612747</td>\n",
       "      <td>LAL</td>\n",
       "      <td>26.0</td>\n",
       "      <td>50</td>\n",
       "      <td>31</td>\n",
       "      <td>19</td>\n",
       "      <td>0.620</td>\n",
       "      <td>...</td>\n",
       "      <td>8</td>\n",
       "      <td>33</td>\n",
       "      <td>2024-25</td>\n",
       "      <td>Regular Season</td>\n",
       "      <td>28.2</td>\n",
       "      <td>7.7</td>\n",
       "      <td>8.2</td>\n",
       "      <td>1.8</td>\n",
       "      <td>0.4</td>\n",
       "      <td>3.6</td>\n",
       "    </tr>\n",
       "    <tr>\n",
       "      <th>4</th>\n",
       "      <td>1630162</td>\n",
       "      <td>Anthony Edwards</td>\n",
       "      <td>Anthony</td>\n",
       "      <td>1610612750</td>\n",
       "      <td>MIN</td>\n",
       "      <td>23.0</td>\n",
       "      <td>79</td>\n",
       "      <td>48</td>\n",
       "      <td>31</td>\n",
       "      <td>0.608</td>\n",
       "      <td>...</td>\n",
       "      <td>44</td>\n",
       "      <td>3</td>\n",
       "      <td>2024-25</td>\n",
       "      <td>Regular Season</td>\n",
       "      <td>27.6</td>\n",
       "      <td>4.5</td>\n",
       "      <td>5.7</td>\n",
       "      <td>1.2</td>\n",
       "      <td>0.6</td>\n",
       "      <td>3.2</td>\n",
       "    </tr>\n",
       "    <tr>\n",
       "      <th>5</th>\n",
       "      <td>1628369</td>\n",
       "      <td>Jayson Tatum</td>\n",
       "      <td>Jayson</td>\n",
       "      <td>1610612738</td>\n",
       "      <td>BOS</td>\n",
       "      <td>27.0</td>\n",
       "      <td>72</td>\n",
       "      <td>53</td>\n",
       "      <td>19</td>\n",
       "      <td>0.736</td>\n",
       "      <td>...</td>\n",
       "      <td>15</td>\n",
       "      <td>6</td>\n",
       "      <td>2024-25</td>\n",
       "      <td>Regular Season</td>\n",
       "      <td>26.8</td>\n",
       "      <td>6.0</td>\n",
       "      <td>8.7</td>\n",
       "      <td>1.1</td>\n",
       "      <td>0.5</td>\n",
       "      <td>2.9</td>\n",
       "    </tr>\n",
       "    <tr>\n",
       "      <th>6</th>\n",
       "      <td>201142</td>\n",
       "      <td>Kevin Durant</td>\n",
       "      <td>Kevin</td>\n",
       "      <td>1610612756</td>\n",
       "      <td>PHX</td>\n",
       "      <td>36.0</td>\n",
       "      <td>62</td>\n",
       "      <td>33</td>\n",
       "      <td>29</td>\n",
       "      <td>0.532</td>\n",
       "      <td>...</td>\n",
       "      <td>44</td>\n",
       "      <td>24</td>\n",
       "      <td>2024-25</td>\n",
       "      <td>Regular Season</td>\n",
       "      <td>26.6</td>\n",
       "      <td>4.2</td>\n",
       "      <td>6.0</td>\n",
       "      <td>0.8</td>\n",
       "      <td>1.2</td>\n",
       "      <td>3.1</td>\n",
       "    </tr>\n",
       "    <tr>\n",
       "      <th>7</th>\n",
       "      <td>1630178</td>\n",
       "      <td>Tyrese Maxey</td>\n",
       "      <td>Tyrese</td>\n",
       "      <td>1610612755</td>\n",
       "      <td>PHI</td>\n",
       "      <td>24.0</td>\n",
       "      <td>52</td>\n",
       "      <td>20</td>\n",
       "      <td>32</td>\n",
       "      <td>0.385</td>\n",
       "      <td>...</td>\n",
       "      <td>20</td>\n",
       "      <td>56</td>\n",
       "      <td>2024-25</td>\n",
       "      <td>Regular Season</td>\n",
       "      <td>26.3</td>\n",
       "      <td>6.1</td>\n",
       "      <td>3.3</td>\n",
       "      <td>1.8</td>\n",
       "      <td>0.4</td>\n",
       "      <td>2.4</td>\n",
       "    </tr>\n",
       "    <tr>\n",
       "      <th>8</th>\n",
       "      <td>1630595</td>\n",
       "      <td>Cade Cunningham</td>\n",
       "      <td>Cade</td>\n",
       "      <td>1610612765</td>\n",
       "      <td>DET</td>\n",
       "      <td>23.0</td>\n",
       "      <td>70</td>\n",
       "      <td>38</td>\n",
       "      <td>32</td>\n",
       "      <td>0.543</td>\n",
       "      <td>...</td>\n",
       "      <td>5</td>\n",
       "      <td>8</td>\n",
       "      <td>2024-25</td>\n",
       "      <td>Regular Season</td>\n",
       "      <td>26.1</td>\n",
       "      <td>9.1</td>\n",
       "      <td>6.1</td>\n",
       "      <td>1.0</td>\n",
       "      <td>0.8</td>\n",
       "      <td>4.4</td>\n",
       "    </tr>\n",
       "    <tr>\n",
       "      <th>9</th>\n",
       "      <td>1628973</td>\n",
       "      <td>Jalen Brunson</td>\n",
       "      <td>Jalen</td>\n",
       "      <td>1610612752</td>\n",
       "      <td>NYK</td>\n",
       "      <td>28.0</td>\n",
       "      <td>65</td>\n",
       "      <td>40</td>\n",
       "      <td>25</td>\n",
       "      <td>0.615</td>\n",
       "      <td>...</td>\n",
       "      <td>44</td>\n",
       "      <td>28</td>\n",
       "      <td>2024-25</td>\n",
       "      <td>Regular Season</td>\n",
       "      <td>26.0</td>\n",
       "      <td>7.3</td>\n",
       "      <td>2.9</td>\n",
       "      <td>0.9</td>\n",
       "      <td>0.1</td>\n",
       "      <td>2.5</td>\n",
       "    </tr>\n",
       "  </tbody>\n",
       "</table>\n",
       "<p>10 rows × 74 columns</p>\n",
       "</div>"
      ]
     },
     "execution_count": 20,
     "metadata": {},
     "output_type": "execute_result"
    }
   ],
   "execution_count": 20
  },
  {
   "metadata": {
    "ExecuteTime": {
     "end_time": "2025-04-30T11:43:11.619382Z",
     "start_time": "2025-04-30T11:43:11.557656Z"
    }
   },
   "cell_type": "code",
   "source": [
    "fig = px.scatter(\n",
    "    df,\n",
    "    x=\"APG\",\n",
    "    y=\"PPG\",\n",
    "    color=\"TEAM_ABBREVIATION\",\n",
    "    template=\"plotly_dark\",\n",
    "    title=\"PPG vs APG by Player\",\n",
    "    color_discrete_sequence=px.colors.sequential.Viridis,\n",
    "    text=\"PLAYER_NAME\",\n",
    "    labels={\n",
    "        \"APG\": \"Assists per Game\",\n",
    "        \"PPG\": \"Points per Game\",\n",
    "        \"TEAM_ABBREVIATION\": \"Team\",\n",
    "        \"PLAYER_NAME\": \"Player\"\n",
    "    },\n",
    "    hover_name=\"PLAYER_NAME\"\n",
    ")\n",
    "\n",
    "fig.update_traces(\n",
    "    marker=dict(size=15),\n",
    "    textposition=\"top center\",\n",
    ")\n",
    "fig.show()"
   ],
   "id": "2286589972dc0311",
   "outputs": [
    {
     "data": {
      "application/vnd.plotly.v1+json": {
       "data": [
        {
         "hovertemplate": "<b>%{hovertext}</b><br><br>Team=OKC<br>Assists per Game=%{x}<br>Points per Game=%{y}<br>Player=%{text}<extra></extra>",
         "hovertext": [
          "Shai Gilgeous-Alexander"
         ],
         "legendgroup": "OKC",
         "marker": {
          "color": "#440154",
          "symbol": "circle",
          "size": 15
         },
         "mode": "markers+text",
         "name": "OKC",
         "orientation": "v",
         "showlegend": true,
         "text": [
          "Shai Gilgeous-Alexander"
         ],
         "x": [
          6.4
         ],
         "xaxis": "x",
         "y": [
          32.7
         ],
         "yaxis": "y",
         "type": "scatter",
         "textposition": "top center"
        },
        {
         "hovertemplate": "<b>%{hovertext}</b><br><br>Team=MIL<br>Assists per Game=%{x}<br>Points per Game=%{y}<br>Player=%{text}<extra></extra>",
         "hovertext": [
          "Giannis Antetokounmpo"
         ],
         "legendgroup": "MIL",
         "marker": {
          "color": "#482878",
          "symbol": "circle",
          "size": 15
         },
         "mode": "markers+text",
         "name": "MIL",
         "orientation": "v",
         "showlegend": true,
         "text": [
          "Giannis Antetokounmpo"
         ],
         "x": [
          6.5
         ],
         "xaxis": "x",
         "y": [
          30.4
         ],
         "yaxis": "y",
         "type": "scatter",
         "textposition": "top center"
        },
        {
         "hovertemplate": "<b>%{hovertext}</b><br><br>Team=DEN<br>Assists per Game=%{x}<br>Points per Game=%{y}<br>Player=%{text}<extra></extra>",
         "hovertext": [
          "Nikola Jokić"
         ],
         "legendgroup": "DEN",
         "marker": {
          "color": "#3e4989",
          "symbol": "circle",
          "size": 15
         },
         "mode": "markers+text",
         "name": "DEN",
         "orientation": "v",
         "showlegend": true,
         "text": [
          "Nikola Jokić"
         ],
         "x": [
          10.2
         ],
         "xaxis": "x",
         "y": [
          29.6
         ],
         "yaxis": "y",
         "type": "scatter",
         "textposition": "top center"
        },
        {
         "hovertemplate": "<b>%{hovertext}</b><br><br>Team=LAL<br>Assists per Game=%{x}<br>Points per Game=%{y}<br>Player=%{text}<extra></extra>",
         "hovertext": [
          "Luka Dončić"
         ],
         "legendgroup": "LAL",
         "marker": {
          "color": "#31688e",
          "symbol": "circle",
          "size": 15
         },
         "mode": "markers+text",
         "name": "LAL",
         "orientation": "v",
         "showlegend": true,
         "text": [
          "Luka Dončić"
         ],
         "x": [
          7.7
         ],
         "xaxis": "x",
         "y": [
          28.2
         ],
         "yaxis": "y",
         "type": "scatter",
         "textposition": "top center"
        },
        {
         "hovertemplate": "<b>%{hovertext}</b><br><br>Team=MIN<br>Assists per Game=%{x}<br>Points per Game=%{y}<br>Player=%{text}<extra></extra>",
         "hovertext": [
          "Anthony Edwards"
         ],
         "legendgroup": "MIN",
         "marker": {
          "color": "#26828e",
          "symbol": "circle",
          "size": 15
         },
         "mode": "markers+text",
         "name": "MIN",
         "orientation": "v",
         "showlegend": true,
         "text": [
          "Anthony Edwards"
         ],
         "x": [
          4.5
         ],
         "xaxis": "x",
         "y": [
          27.6
         ],
         "yaxis": "y",
         "type": "scatter",
         "textposition": "top center"
        },
        {
         "hovertemplate": "<b>%{hovertext}</b><br><br>Team=BOS<br>Assists per Game=%{x}<br>Points per Game=%{y}<br>Player=%{text}<extra></extra>",
         "hovertext": [
          "Jayson Tatum"
         ],
         "legendgroup": "BOS",
         "marker": {
          "color": "#1f9e89",
          "symbol": "circle",
          "size": 15
         },
         "mode": "markers+text",
         "name": "BOS",
         "orientation": "v",
         "showlegend": true,
         "text": [
          "Jayson Tatum"
         ],
         "x": [
          6.0
         ],
         "xaxis": "x",
         "y": [
          26.8
         ],
         "yaxis": "y",
         "type": "scatter",
         "textposition": "top center"
        },
        {
         "hovertemplate": "<b>%{hovertext}</b><br><br>Team=PHX<br>Assists per Game=%{x}<br>Points per Game=%{y}<br>Player=%{text}<extra></extra>",
         "hovertext": [
          "Kevin Durant"
         ],
         "legendgroup": "PHX",
         "marker": {
          "color": "#35b779",
          "symbol": "circle",
          "size": 15
         },
         "mode": "markers+text",
         "name": "PHX",
         "orientation": "v",
         "showlegend": true,
         "text": [
          "Kevin Durant"
         ],
         "x": [
          4.2
         ],
         "xaxis": "x",
         "y": [
          26.6
         ],
         "yaxis": "y",
         "type": "scatter",
         "textposition": "top center"
        },
        {
         "hovertemplate": "<b>%{hovertext}</b><br><br>Team=PHI<br>Assists per Game=%{x}<br>Points per Game=%{y}<br>Player=%{text}<extra></extra>",
         "hovertext": [
          "Tyrese Maxey"
         ],
         "legendgroup": "PHI",
         "marker": {
          "color": "#6ece58",
          "symbol": "circle",
          "size": 15
         },
         "mode": "markers+text",
         "name": "PHI",
         "orientation": "v",
         "showlegend": true,
         "text": [
          "Tyrese Maxey"
         ],
         "x": [
          6.1
         ],
         "xaxis": "x",
         "y": [
          26.3
         ],
         "yaxis": "y",
         "type": "scatter",
         "textposition": "top center"
        },
        {
         "hovertemplate": "<b>%{hovertext}</b><br><br>Team=DET<br>Assists per Game=%{x}<br>Points per Game=%{y}<br>Player=%{text}<extra></extra>",
         "hovertext": [
          "Cade Cunningham"
         ],
         "legendgroup": "DET",
         "marker": {
          "color": "#b5de2b",
          "symbol": "circle",
          "size": 15
         },
         "mode": "markers+text",
         "name": "DET",
         "orientation": "v",
         "showlegend": true,
         "text": [
          "Cade Cunningham"
         ],
         "x": [
          9.1
         ],
         "xaxis": "x",
         "y": [
          26.1
         ],
         "yaxis": "y",
         "type": "scatter",
         "textposition": "top center"
        },
        {
         "hovertemplate": "<b>%{hovertext}</b><br><br>Team=NYK<br>Assists per Game=%{x}<br>Points per Game=%{y}<br>Player=%{text}<extra></extra>",
         "hovertext": [
          "Jalen Brunson"
         ],
         "legendgroup": "NYK",
         "marker": {
          "color": "#fde725",
          "symbol": "circle",
          "size": 15
         },
         "mode": "markers+text",
         "name": "NYK",
         "orientation": "v",
         "showlegend": true,
         "text": [
          "Jalen Brunson"
         ],
         "x": [
          7.3
         ],
         "xaxis": "x",
         "y": [
          26.0
         ],
         "yaxis": "y",
         "type": "scatter",
         "textposition": "top center"
        }
       ],
       "layout": {
        "template": {
         "data": {
          "histogram2dcontour": [
           {
            "type": "histogram2dcontour",
            "colorbar": {
             "outlinewidth": 0,
             "ticks": ""
            },
            "colorscale": [
             [
              0.0,
              "#0d0887"
             ],
             [
              0.1111111111111111,
              "#46039f"
             ],
             [
              0.2222222222222222,
              "#7201a8"
             ],
             [
              0.3333333333333333,
              "#9c179e"
             ],
             [
              0.4444444444444444,
              "#bd3786"
             ],
             [
              0.5555555555555556,
              "#d8576b"
             ],
             [
              0.6666666666666666,
              "#ed7953"
             ],
             [
              0.7777777777777778,
              "#fb9f3a"
             ],
             [
              0.8888888888888888,
              "#fdca26"
             ],
             [
              1.0,
              "#f0f921"
             ]
            ]
           }
          ],
          "choropleth": [
           {
            "type": "choropleth",
            "colorbar": {
             "outlinewidth": 0,
             "ticks": ""
            }
           }
          ],
          "histogram2d": [
           {
            "type": "histogram2d",
            "colorbar": {
             "outlinewidth": 0,
             "ticks": ""
            },
            "colorscale": [
             [
              0.0,
              "#0d0887"
             ],
             [
              0.1111111111111111,
              "#46039f"
             ],
             [
              0.2222222222222222,
              "#7201a8"
             ],
             [
              0.3333333333333333,
              "#9c179e"
             ],
             [
              0.4444444444444444,
              "#bd3786"
             ],
             [
              0.5555555555555556,
              "#d8576b"
             ],
             [
              0.6666666666666666,
              "#ed7953"
             ],
             [
              0.7777777777777778,
              "#fb9f3a"
             ],
             [
              0.8888888888888888,
              "#fdca26"
             ],
             [
              1.0,
              "#f0f921"
             ]
            ]
           }
          ],
          "heatmap": [
           {
            "type": "heatmap",
            "colorbar": {
             "outlinewidth": 0,
             "ticks": ""
            },
            "colorscale": [
             [
              0.0,
              "#0d0887"
             ],
             [
              0.1111111111111111,
              "#46039f"
             ],
             [
              0.2222222222222222,
              "#7201a8"
             ],
             [
              0.3333333333333333,
              "#9c179e"
             ],
             [
              0.4444444444444444,
              "#bd3786"
             ],
             [
              0.5555555555555556,
              "#d8576b"
             ],
             [
              0.6666666666666666,
              "#ed7953"
             ],
             [
              0.7777777777777778,
              "#fb9f3a"
             ],
             [
              0.8888888888888888,
              "#fdca26"
             ],
             [
              1.0,
              "#f0f921"
             ]
            ]
           }
          ],
          "heatmapgl": [
           {
            "type": "heatmapgl",
            "colorbar": {
             "outlinewidth": 0,
             "ticks": ""
            },
            "colorscale": [
             [
              0.0,
              "#0d0887"
             ],
             [
              0.1111111111111111,
              "#46039f"
             ],
             [
              0.2222222222222222,
              "#7201a8"
             ],
             [
              0.3333333333333333,
              "#9c179e"
             ],
             [
              0.4444444444444444,
              "#bd3786"
             ],
             [
              0.5555555555555556,
              "#d8576b"
             ],
             [
              0.6666666666666666,
              "#ed7953"
             ],
             [
              0.7777777777777778,
              "#fb9f3a"
             ],
             [
              0.8888888888888888,
              "#fdca26"
             ],
             [
              1.0,
              "#f0f921"
             ]
            ]
           }
          ],
          "contourcarpet": [
           {
            "type": "contourcarpet",
            "colorbar": {
             "outlinewidth": 0,
             "ticks": ""
            }
           }
          ],
          "contour": [
           {
            "type": "contour",
            "colorbar": {
             "outlinewidth": 0,
             "ticks": ""
            },
            "colorscale": [
             [
              0.0,
              "#0d0887"
             ],
             [
              0.1111111111111111,
              "#46039f"
             ],
             [
              0.2222222222222222,
              "#7201a8"
             ],
             [
              0.3333333333333333,
              "#9c179e"
             ],
             [
              0.4444444444444444,
              "#bd3786"
             ],
             [
              0.5555555555555556,
              "#d8576b"
             ],
             [
              0.6666666666666666,
              "#ed7953"
             ],
             [
              0.7777777777777778,
              "#fb9f3a"
             ],
             [
              0.8888888888888888,
              "#fdca26"
             ],
             [
              1.0,
              "#f0f921"
             ]
            ]
           }
          ],
          "surface": [
           {
            "type": "surface",
            "colorbar": {
             "outlinewidth": 0,
             "ticks": ""
            },
            "colorscale": [
             [
              0.0,
              "#0d0887"
             ],
             [
              0.1111111111111111,
              "#46039f"
             ],
             [
              0.2222222222222222,
              "#7201a8"
             ],
             [
              0.3333333333333333,
              "#9c179e"
             ],
             [
              0.4444444444444444,
              "#bd3786"
             ],
             [
              0.5555555555555556,
              "#d8576b"
             ],
             [
              0.6666666666666666,
              "#ed7953"
             ],
             [
              0.7777777777777778,
              "#fb9f3a"
             ],
             [
              0.8888888888888888,
              "#fdca26"
             ],
             [
              1.0,
              "#f0f921"
             ]
            ]
           }
          ],
          "mesh3d": [
           {
            "type": "mesh3d",
            "colorbar": {
             "outlinewidth": 0,
             "ticks": ""
            }
           }
          ],
          "scatter": [
           {
            "marker": {
             "line": {
              "color": "#283442"
             }
            },
            "type": "scatter"
           }
          ],
          "parcoords": [
           {
            "type": "parcoords",
            "line": {
             "colorbar": {
              "outlinewidth": 0,
              "ticks": ""
             }
            }
           }
          ],
          "scatterpolargl": [
           {
            "type": "scatterpolargl",
            "marker": {
             "colorbar": {
              "outlinewidth": 0,
              "ticks": ""
             }
            }
           }
          ],
          "bar": [
           {
            "error_x": {
             "color": "#f2f5fa"
            },
            "error_y": {
             "color": "#f2f5fa"
            },
            "marker": {
             "line": {
              "color": "rgb(17,17,17)",
              "width": 0.5
             },
             "pattern": {
              "fillmode": "overlay",
              "size": 10,
              "solidity": 0.2
             }
            },
            "type": "bar"
           }
          ],
          "scattergeo": [
           {
            "type": "scattergeo",
            "marker": {
             "colorbar": {
              "outlinewidth": 0,
              "ticks": ""
             }
            }
           }
          ],
          "scatterpolar": [
           {
            "type": "scatterpolar",
            "marker": {
             "colorbar": {
              "outlinewidth": 0,
              "ticks": ""
             }
            }
           }
          ],
          "histogram": [
           {
            "marker": {
             "pattern": {
              "fillmode": "overlay",
              "size": 10,
              "solidity": 0.2
             }
            },
            "type": "histogram"
           }
          ],
          "scattergl": [
           {
            "marker": {
             "line": {
              "color": "#283442"
             }
            },
            "type": "scattergl"
           }
          ],
          "scatter3d": [
           {
            "type": "scatter3d",
            "line": {
             "colorbar": {
              "outlinewidth": 0,
              "ticks": ""
             }
            },
            "marker": {
             "colorbar": {
              "outlinewidth": 0,
              "ticks": ""
             }
            }
           }
          ],
          "scattermapbox": [
           {
            "type": "scattermapbox",
            "marker": {
             "colorbar": {
              "outlinewidth": 0,
              "ticks": ""
             }
            }
           }
          ],
          "scatterternary": [
           {
            "type": "scatterternary",
            "marker": {
             "colorbar": {
              "outlinewidth": 0,
              "ticks": ""
             }
            }
           }
          ],
          "scattercarpet": [
           {
            "type": "scattercarpet",
            "marker": {
             "colorbar": {
              "outlinewidth": 0,
              "ticks": ""
             }
            }
           }
          ],
          "carpet": [
           {
            "aaxis": {
             "endlinecolor": "#A2B1C6",
             "gridcolor": "#506784",
             "linecolor": "#506784",
             "minorgridcolor": "#506784",
             "startlinecolor": "#A2B1C6"
            },
            "baxis": {
             "endlinecolor": "#A2B1C6",
             "gridcolor": "#506784",
             "linecolor": "#506784",
             "minorgridcolor": "#506784",
             "startlinecolor": "#A2B1C6"
            },
            "type": "carpet"
           }
          ],
          "table": [
           {
            "cells": {
             "fill": {
              "color": "#506784"
             },
             "line": {
              "color": "rgb(17,17,17)"
             }
            },
            "header": {
             "fill": {
              "color": "#2a3f5f"
             },
             "line": {
              "color": "rgb(17,17,17)"
             }
            },
            "type": "table"
           }
          ],
          "barpolar": [
           {
            "marker": {
             "line": {
              "color": "rgb(17,17,17)",
              "width": 0.5
             },
             "pattern": {
              "fillmode": "overlay",
              "size": 10,
              "solidity": 0.2
             }
            },
            "type": "barpolar"
           }
          ],
          "pie": [
           {
            "automargin": true,
            "type": "pie"
           }
          ]
         },
         "layout": {
          "autotypenumbers": "strict",
          "colorway": [
           "#636efa",
           "#EF553B",
           "#00cc96",
           "#ab63fa",
           "#FFA15A",
           "#19d3f3",
           "#FF6692",
           "#B6E880",
           "#FF97FF",
           "#FECB52"
          ],
          "font": {
           "color": "#f2f5fa"
          },
          "hovermode": "closest",
          "hoverlabel": {
           "align": "left"
          },
          "paper_bgcolor": "rgb(17,17,17)",
          "plot_bgcolor": "rgb(17,17,17)",
          "polar": {
           "bgcolor": "rgb(17,17,17)",
           "angularaxis": {
            "gridcolor": "#506784",
            "linecolor": "#506784",
            "ticks": ""
           },
           "radialaxis": {
            "gridcolor": "#506784",
            "linecolor": "#506784",
            "ticks": ""
           }
          },
          "ternary": {
           "bgcolor": "rgb(17,17,17)",
           "aaxis": {
            "gridcolor": "#506784",
            "linecolor": "#506784",
            "ticks": ""
           },
           "baxis": {
            "gridcolor": "#506784",
            "linecolor": "#506784",
            "ticks": ""
           },
           "caxis": {
            "gridcolor": "#506784",
            "linecolor": "#506784",
            "ticks": ""
           }
          },
          "coloraxis": {
           "colorbar": {
            "outlinewidth": 0,
            "ticks": ""
           }
          },
          "colorscale": {
           "sequential": [
            [
             0.0,
             "#0d0887"
            ],
            [
             0.1111111111111111,
             "#46039f"
            ],
            [
             0.2222222222222222,
             "#7201a8"
            ],
            [
             0.3333333333333333,
             "#9c179e"
            ],
            [
             0.4444444444444444,
             "#bd3786"
            ],
            [
             0.5555555555555556,
             "#d8576b"
            ],
            [
             0.6666666666666666,
             "#ed7953"
            ],
            [
             0.7777777777777778,
             "#fb9f3a"
            ],
            [
             0.8888888888888888,
             "#fdca26"
            ],
            [
             1.0,
             "#f0f921"
            ]
           ],
           "sequentialminus": [
            [
             0.0,
             "#0d0887"
            ],
            [
             0.1111111111111111,
             "#46039f"
            ],
            [
             0.2222222222222222,
             "#7201a8"
            ],
            [
             0.3333333333333333,
             "#9c179e"
            ],
            [
             0.4444444444444444,
             "#bd3786"
            ],
            [
             0.5555555555555556,
             "#d8576b"
            ],
            [
             0.6666666666666666,
             "#ed7953"
            ],
            [
             0.7777777777777778,
             "#fb9f3a"
            ],
            [
             0.8888888888888888,
             "#fdca26"
            ],
            [
             1.0,
             "#f0f921"
            ]
           ],
           "diverging": [
            [
             0,
             "#8e0152"
            ],
            [
             0.1,
             "#c51b7d"
            ],
            [
             0.2,
             "#de77ae"
            ],
            [
             0.3,
             "#f1b6da"
            ],
            [
             0.4,
             "#fde0ef"
            ],
            [
             0.5,
             "#f7f7f7"
            ],
            [
             0.6,
             "#e6f5d0"
            ],
            [
             0.7,
             "#b8e186"
            ],
            [
             0.8,
             "#7fbc41"
            ],
            [
             0.9,
             "#4d9221"
            ],
            [
             1,
             "#276419"
            ]
           ]
          },
          "xaxis": {
           "gridcolor": "#283442",
           "linecolor": "#506784",
           "ticks": "",
           "title": {
            "standoff": 15
           },
           "zerolinecolor": "#283442",
           "automargin": true,
           "zerolinewidth": 2
          },
          "yaxis": {
           "gridcolor": "#283442",
           "linecolor": "#506784",
           "ticks": "",
           "title": {
            "standoff": 15
           },
           "zerolinecolor": "#283442",
           "automargin": true,
           "zerolinewidth": 2
          },
          "scene": {
           "xaxis": {
            "backgroundcolor": "rgb(17,17,17)",
            "gridcolor": "#506784",
            "linecolor": "#506784",
            "showbackground": true,
            "ticks": "",
            "zerolinecolor": "#C8D4E3",
            "gridwidth": 2
           },
           "yaxis": {
            "backgroundcolor": "rgb(17,17,17)",
            "gridcolor": "#506784",
            "linecolor": "#506784",
            "showbackground": true,
            "ticks": "",
            "zerolinecolor": "#C8D4E3",
            "gridwidth": 2
           },
           "zaxis": {
            "backgroundcolor": "rgb(17,17,17)",
            "gridcolor": "#506784",
            "linecolor": "#506784",
            "showbackground": true,
            "ticks": "",
            "zerolinecolor": "#C8D4E3",
            "gridwidth": 2
           }
          },
          "shapedefaults": {
           "line": {
            "color": "#f2f5fa"
           }
          },
          "annotationdefaults": {
           "arrowcolor": "#f2f5fa",
           "arrowhead": 0,
           "arrowwidth": 1
          },
          "geo": {
           "bgcolor": "rgb(17,17,17)",
           "landcolor": "rgb(17,17,17)",
           "subunitcolor": "#506784",
           "showland": true,
           "showlakes": true,
           "lakecolor": "rgb(17,17,17)"
          },
          "title": {
           "x": 0.05
          },
          "updatemenudefaults": {
           "bgcolor": "#506784",
           "borderwidth": 0
          },
          "sliderdefaults": {
           "bgcolor": "#C8D4E3",
           "borderwidth": 1,
           "bordercolor": "rgb(17,17,17)",
           "tickwidth": 0
          },
          "mapbox": {
           "style": "dark"
          }
         }
        },
        "xaxis": {
         "anchor": "y",
         "domain": [
          0.0,
          1.0
         ],
         "title": {
          "text": "Assists per Game"
         }
        },
        "yaxis": {
         "anchor": "x",
         "domain": [
          0.0,
          1.0
         ],
         "title": {
          "text": "Points per Game"
         }
        },
        "legend": {
         "title": {
          "text": "Team"
         },
         "tracegroupgap": 0
        },
        "title": {
         "text": "PPG vs APG by Player"
        }
       },
       "config": {
        "plotlyServerURL": "https://plot.ly"
       }
      },
      "text/html": [
       "<div>                            <div id=\"a76cdfa7-322f-4b77-9ed0-79f38f7ea4f1\" class=\"plotly-graph-div\" style=\"height:525px; width:100%;\"></div>            <script type=\"text/javascript\">                require([\"plotly\"], function(Plotly) {                    window.PLOTLYENV=window.PLOTLYENV || {};                                    if (document.getElementById(\"a76cdfa7-322f-4b77-9ed0-79f38f7ea4f1\")) {                    Plotly.newPlot(                        \"a76cdfa7-322f-4b77-9ed0-79f38f7ea4f1\",                        [{\"hovertemplate\":\"\\u003cb\\u003e%{hovertext}\\u003c\\u002fb\\u003e\\u003cbr\\u003e\\u003cbr\\u003eTeam=OKC\\u003cbr\\u003eAssists per Game=%{x}\\u003cbr\\u003ePoints per Game=%{y}\\u003cbr\\u003ePlayer=%{text}\\u003cextra\\u003e\\u003c\\u002fextra\\u003e\",\"hovertext\":[\"Shai Gilgeous-Alexander\"],\"legendgroup\":\"OKC\",\"marker\":{\"color\":\"#440154\",\"symbol\":\"circle\",\"size\":15},\"mode\":\"markers+text\",\"name\":\"OKC\",\"orientation\":\"v\",\"showlegend\":true,\"text\":[\"Shai Gilgeous-Alexander\"],\"x\":[6.4],\"xaxis\":\"x\",\"y\":[32.7],\"yaxis\":\"y\",\"type\":\"scatter\",\"textposition\":\"top center\"},{\"hovertemplate\":\"\\u003cb\\u003e%{hovertext}\\u003c\\u002fb\\u003e\\u003cbr\\u003e\\u003cbr\\u003eTeam=MIL\\u003cbr\\u003eAssists per Game=%{x}\\u003cbr\\u003ePoints per Game=%{y}\\u003cbr\\u003ePlayer=%{text}\\u003cextra\\u003e\\u003c\\u002fextra\\u003e\",\"hovertext\":[\"Giannis Antetokounmpo\"],\"legendgroup\":\"MIL\",\"marker\":{\"color\":\"#482878\",\"symbol\":\"circle\",\"size\":15},\"mode\":\"markers+text\",\"name\":\"MIL\",\"orientation\":\"v\",\"showlegend\":true,\"text\":[\"Giannis Antetokounmpo\"],\"x\":[6.5],\"xaxis\":\"x\",\"y\":[30.4],\"yaxis\":\"y\",\"type\":\"scatter\",\"textposition\":\"top center\"},{\"hovertemplate\":\"\\u003cb\\u003e%{hovertext}\\u003c\\u002fb\\u003e\\u003cbr\\u003e\\u003cbr\\u003eTeam=DEN\\u003cbr\\u003eAssists per Game=%{x}\\u003cbr\\u003ePoints per Game=%{y}\\u003cbr\\u003ePlayer=%{text}\\u003cextra\\u003e\\u003c\\u002fextra\\u003e\",\"hovertext\":[\"Nikola Joki\\u0107\"],\"legendgroup\":\"DEN\",\"marker\":{\"color\":\"#3e4989\",\"symbol\":\"circle\",\"size\":15},\"mode\":\"markers+text\",\"name\":\"DEN\",\"orientation\":\"v\",\"showlegend\":true,\"text\":[\"Nikola Joki\\u0107\"],\"x\":[10.2],\"xaxis\":\"x\",\"y\":[29.6],\"yaxis\":\"y\",\"type\":\"scatter\",\"textposition\":\"top center\"},{\"hovertemplate\":\"\\u003cb\\u003e%{hovertext}\\u003c\\u002fb\\u003e\\u003cbr\\u003e\\u003cbr\\u003eTeam=LAL\\u003cbr\\u003eAssists per Game=%{x}\\u003cbr\\u003ePoints per Game=%{y}\\u003cbr\\u003ePlayer=%{text}\\u003cextra\\u003e\\u003c\\u002fextra\\u003e\",\"hovertext\":[\"Luka Don\\u010di\\u0107\"],\"legendgroup\":\"LAL\",\"marker\":{\"color\":\"#31688e\",\"symbol\":\"circle\",\"size\":15},\"mode\":\"markers+text\",\"name\":\"LAL\",\"orientation\":\"v\",\"showlegend\":true,\"text\":[\"Luka Don\\u010di\\u0107\"],\"x\":[7.7],\"xaxis\":\"x\",\"y\":[28.2],\"yaxis\":\"y\",\"type\":\"scatter\",\"textposition\":\"top center\"},{\"hovertemplate\":\"\\u003cb\\u003e%{hovertext}\\u003c\\u002fb\\u003e\\u003cbr\\u003e\\u003cbr\\u003eTeam=MIN\\u003cbr\\u003eAssists per Game=%{x}\\u003cbr\\u003ePoints per Game=%{y}\\u003cbr\\u003ePlayer=%{text}\\u003cextra\\u003e\\u003c\\u002fextra\\u003e\",\"hovertext\":[\"Anthony Edwards\"],\"legendgroup\":\"MIN\",\"marker\":{\"color\":\"#26828e\",\"symbol\":\"circle\",\"size\":15},\"mode\":\"markers+text\",\"name\":\"MIN\",\"orientation\":\"v\",\"showlegend\":true,\"text\":[\"Anthony Edwards\"],\"x\":[4.5],\"xaxis\":\"x\",\"y\":[27.6],\"yaxis\":\"y\",\"type\":\"scatter\",\"textposition\":\"top center\"},{\"hovertemplate\":\"\\u003cb\\u003e%{hovertext}\\u003c\\u002fb\\u003e\\u003cbr\\u003e\\u003cbr\\u003eTeam=BOS\\u003cbr\\u003eAssists per Game=%{x}\\u003cbr\\u003ePoints per Game=%{y}\\u003cbr\\u003ePlayer=%{text}\\u003cextra\\u003e\\u003c\\u002fextra\\u003e\",\"hovertext\":[\"Jayson Tatum\"],\"legendgroup\":\"BOS\",\"marker\":{\"color\":\"#1f9e89\",\"symbol\":\"circle\",\"size\":15},\"mode\":\"markers+text\",\"name\":\"BOS\",\"orientation\":\"v\",\"showlegend\":true,\"text\":[\"Jayson Tatum\"],\"x\":[6.0],\"xaxis\":\"x\",\"y\":[26.8],\"yaxis\":\"y\",\"type\":\"scatter\",\"textposition\":\"top center\"},{\"hovertemplate\":\"\\u003cb\\u003e%{hovertext}\\u003c\\u002fb\\u003e\\u003cbr\\u003e\\u003cbr\\u003eTeam=PHX\\u003cbr\\u003eAssists per Game=%{x}\\u003cbr\\u003ePoints per Game=%{y}\\u003cbr\\u003ePlayer=%{text}\\u003cextra\\u003e\\u003c\\u002fextra\\u003e\",\"hovertext\":[\"Kevin Durant\"],\"legendgroup\":\"PHX\",\"marker\":{\"color\":\"#35b779\",\"symbol\":\"circle\",\"size\":15},\"mode\":\"markers+text\",\"name\":\"PHX\",\"orientation\":\"v\",\"showlegend\":true,\"text\":[\"Kevin Durant\"],\"x\":[4.2],\"xaxis\":\"x\",\"y\":[26.6],\"yaxis\":\"y\",\"type\":\"scatter\",\"textposition\":\"top center\"},{\"hovertemplate\":\"\\u003cb\\u003e%{hovertext}\\u003c\\u002fb\\u003e\\u003cbr\\u003e\\u003cbr\\u003eTeam=PHI\\u003cbr\\u003eAssists per Game=%{x}\\u003cbr\\u003ePoints per Game=%{y}\\u003cbr\\u003ePlayer=%{text}\\u003cextra\\u003e\\u003c\\u002fextra\\u003e\",\"hovertext\":[\"Tyrese Maxey\"],\"legendgroup\":\"PHI\",\"marker\":{\"color\":\"#6ece58\",\"symbol\":\"circle\",\"size\":15},\"mode\":\"markers+text\",\"name\":\"PHI\",\"orientation\":\"v\",\"showlegend\":true,\"text\":[\"Tyrese Maxey\"],\"x\":[6.1],\"xaxis\":\"x\",\"y\":[26.3],\"yaxis\":\"y\",\"type\":\"scatter\",\"textposition\":\"top center\"},{\"hovertemplate\":\"\\u003cb\\u003e%{hovertext}\\u003c\\u002fb\\u003e\\u003cbr\\u003e\\u003cbr\\u003eTeam=DET\\u003cbr\\u003eAssists per Game=%{x}\\u003cbr\\u003ePoints per Game=%{y}\\u003cbr\\u003ePlayer=%{text}\\u003cextra\\u003e\\u003c\\u002fextra\\u003e\",\"hovertext\":[\"Cade Cunningham\"],\"legendgroup\":\"DET\",\"marker\":{\"color\":\"#b5de2b\",\"symbol\":\"circle\",\"size\":15},\"mode\":\"markers+text\",\"name\":\"DET\",\"orientation\":\"v\",\"showlegend\":true,\"text\":[\"Cade Cunningham\"],\"x\":[9.1],\"xaxis\":\"x\",\"y\":[26.1],\"yaxis\":\"y\",\"type\":\"scatter\",\"textposition\":\"top center\"},{\"hovertemplate\":\"\\u003cb\\u003e%{hovertext}\\u003c\\u002fb\\u003e\\u003cbr\\u003e\\u003cbr\\u003eTeam=NYK\\u003cbr\\u003eAssists per Game=%{x}\\u003cbr\\u003ePoints per Game=%{y}\\u003cbr\\u003ePlayer=%{text}\\u003cextra\\u003e\\u003c\\u002fextra\\u003e\",\"hovertext\":[\"Jalen Brunson\"],\"legendgroup\":\"NYK\",\"marker\":{\"color\":\"#fde725\",\"symbol\":\"circle\",\"size\":15},\"mode\":\"markers+text\",\"name\":\"NYK\",\"orientation\":\"v\",\"showlegend\":true,\"text\":[\"Jalen Brunson\"],\"x\":[7.3],\"xaxis\":\"x\",\"y\":[26.0],\"yaxis\":\"y\",\"type\":\"scatter\",\"textposition\":\"top center\"}],                        {\"template\":{\"data\":{\"histogram2dcontour\":[{\"type\":\"histogram2dcontour\",\"colorbar\":{\"outlinewidth\":0,\"ticks\":\"\"},\"colorscale\":[[0.0,\"#0d0887\"],[0.1111111111111111,\"#46039f\"],[0.2222222222222222,\"#7201a8\"],[0.3333333333333333,\"#9c179e\"],[0.4444444444444444,\"#bd3786\"],[0.5555555555555556,\"#d8576b\"],[0.6666666666666666,\"#ed7953\"],[0.7777777777777778,\"#fb9f3a\"],[0.8888888888888888,\"#fdca26\"],[1.0,\"#f0f921\"]]}],\"choropleth\":[{\"type\":\"choropleth\",\"colorbar\":{\"outlinewidth\":0,\"ticks\":\"\"}}],\"histogram2d\":[{\"type\":\"histogram2d\",\"colorbar\":{\"outlinewidth\":0,\"ticks\":\"\"},\"colorscale\":[[0.0,\"#0d0887\"],[0.1111111111111111,\"#46039f\"],[0.2222222222222222,\"#7201a8\"],[0.3333333333333333,\"#9c179e\"],[0.4444444444444444,\"#bd3786\"],[0.5555555555555556,\"#d8576b\"],[0.6666666666666666,\"#ed7953\"],[0.7777777777777778,\"#fb9f3a\"],[0.8888888888888888,\"#fdca26\"],[1.0,\"#f0f921\"]]}],\"heatmap\":[{\"type\":\"heatmap\",\"colorbar\":{\"outlinewidth\":0,\"ticks\":\"\"},\"colorscale\":[[0.0,\"#0d0887\"],[0.1111111111111111,\"#46039f\"],[0.2222222222222222,\"#7201a8\"],[0.3333333333333333,\"#9c179e\"],[0.4444444444444444,\"#bd3786\"],[0.5555555555555556,\"#d8576b\"],[0.6666666666666666,\"#ed7953\"],[0.7777777777777778,\"#fb9f3a\"],[0.8888888888888888,\"#fdca26\"],[1.0,\"#f0f921\"]]}],\"heatmapgl\":[{\"type\":\"heatmapgl\",\"colorbar\":{\"outlinewidth\":0,\"ticks\":\"\"},\"colorscale\":[[0.0,\"#0d0887\"],[0.1111111111111111,\"#46039f\"],[0.2222222222222222,\"#7201a8\"],[0.3333333333333333,\"#9c179e\"],[0.4444444444444444,\"#bd3786\"],[0.5555555555555556,\"#d8576b\"],[0.6666666666666666,\"#ed7953\"],[0.7777777777777778,\"#fb9f3a\"],[0.8888888888888888,\"#fdca26\"],[1.0,\"#f0f921\"]]}],\"contourcarpet\":[{\"type\":\"contourcarpet\",\"colorbar\":{\"outlinewidth\":0,\"ticks\":\"\"}}],\"contour\":[{\"type\":\"contour\",\"colorbar\":{\"outlinewidth\":0,\"ticks\":\"\"},\"colorscale\":[[0.0,\"#0d0887\"],[0.1111111111111111,\"#46039f\"],[0.2222222222222222,\"#7201a8\"],[0.3333333333333333,\"#9c179e\"],[0.4444444444444444,\"#bd3786\"],[0.5555555555555556,\"#d8576b\"],[0.6666666666666666,\"#ed7953\"],[0.7777777777777778,\"#fb9f3a\"],[0.8888888888888888,\"#fdca26\"],[1.0,\"#f0f921\"]]}],\"surface\":[{\"type\":\"surface\",\"colorbar\":{\"outlinewidth\":0,\"ticks\":\"\"},\"colorscale\":[[0.0,\"#0d0887\"],[0.1111111111111111,\"#46039f\"],[0.2222222222222222,\"#7201a8\"],[0.3333333333333333,\"#9c179e\"],[0.4444444444444444,\"#bd3786\"],[0.5555555555555556,\"#d8576b\"],[0.6666666666666666,\"#ed7953\"],[0.7777777777777778,\"#fb9f3a\"],[0.8888888888888888,\"#fdca26\"],[1.0,\"#f0f921\"]]}],\"mesh3d\":[{\"type\":\"mesh3d\",\"colorbar\":{\"outlinewidth\":0,\"ticks\":\"\"}}],\"scatter\":[{\"marker\":{\"line\":{\"color\":\"#283442\"}},\"type\":\"scatter\"}],\"parcoords\":[{\"type\":\"parcoords\",\"line\":{\"colorbar\":{\"outlinewidth\":0,\"ticks\":\"\"}}}],\"scatterpolargl\":[{\"type\":\"scatterpolargl\",\"marker\":{\"colorbar\":{\"outlinewidth\":0,\"ticks\":\"\"}}}],\"bar\":[{\"error_x\":{\"color\":\"#f2f5fa\"},\"error_y\":{\"color\":\"#f2f5fa\"},\"marker\":{\"line\":{\"color\":\"rgb(17,17,17)\",\"width\":0.5},\"pattern\":{\"fillmode\":\"overlay\",\"size\":10,\"solidity\":0.2}},\"type\":\"bar\"}],\"scattergeo\":[{\"type\":\"scattergeo\",\"marker\":{\"colorbar\":{\"outlinewidth\":0,\"ticks\":\"\"}}}],\"scatterpolar\":[{\"type\":\"scatterpolar\",\"marker\":{\"colorbar\":{\"outlinewidth\":0,\"ticks\":\"\"}}}],\"histogram\":[{\"marker\":{\"pattern\":{\"fillmode\":\"overlay\",\"size\":10,\"solidity\":0.2}},\"type\":\"histogram\"}],\"scattergl\":[{\"marker\":{\"line\":{\"color\":\"#283442\"}},\"type\":\"scattergl\"}],\"scatter3d\":[{\"type\":\"scatter3d\",\"line\":{\"colorbar\":{\"outlinewidth\":0,\"ticks\":\"\"}},\"marker\":{\"colorbar\":{\"outlinewidth\":0,\"ticks\":\"\"}}}],\"scattermapbox\":[{\"type\":\"scattermapbox\",\"marker\":{\"colorbar\":{\"outlinewidth\":0,\"ticks\":\"\"}}}],\"scatterternary\":[{\"type\":\"scatterternary\",\"marker\":{\"colorbar\":{\"outlinewidth\":0,\"ticks\":\"\"}}}],\"scattercarpet\":[{\"type\":\"scattercarpet\",\"marker\":{\"colorbar\":{\"outlinewidth\":0,\"ticks\":\"\"}}}],\"carpet\":[{\"aaxis\":{\"endlinecolor\":\"#A2B1C6\",\"gridcolor\":\"#506784\",\"linecolor\":\"#506784\",\"minorgridcolor\":\"#506784\",\"startlinecolor\":\"#A2B1C6\"},\"baxis\":{\"endlinecolor\":\"#A2B1C6\",\"gridcolor\":\"#506784\",\"linecolor\":\"#506784\",\"minorgridcolor\":\"#506784\",\"startlinecolor\":\"#A2B1C6\"},\"type\":\"carpet\"}],\"table\":[{\"cells\":{\"fill\":{\"color\":\"#506784\"},\"line\":{\"color\":\"rgb(17,17,17)\"}},\"header\":{\"fill\":{\"color\":\"#2a3f5f\"},\"line\":{\"color\":\"rgb(17,17,17)\"}},\"type\":\"table\"}],\"barpolar\":[{\"marker\":{\"line\":{\"color\":\"rgb(17,17,17)\",\"width\":0.5},\"pattern\":{\"fillmode\":\"overlay\",\"size\":10,\"solidity\":0.2}},\"type\":\"barpolar\"}],\"pie\":[{\"automargin\":true,\"type\":\"pie\"}]},\"layout\":{\"autotypenumbers\":\"strict\",\"colorway\":[\"#636efa\",\"#EF553B\",\"#00cc96\",\"#ab63fa\",\"#FFA15A\",\"#19d3f3\",\"#FF6692\",\"#B6E880\",\"#FF97FF\",\"#FECB52\"],\"font\":{\"color\":\"#f2f5fa\"},\"hovermode\":\"closest\",\"hoverlabel\":{\"align\":\"left\"},\"paper_bgcolor\":\"rgb(17,17,17)\",\"plot_bgcolor\":\"rgb(17,17,17)\",\"polar\":{\"bgcolor\":\"rgb(17,17,17)\",\"angularaxis\":{\"gridcolor\":\"#506784\",\"linecolor\":\"#506784\",\"ticks\":\"\"},\"radialaxis\":{\"gridcolor\":\"#506784\",\"linecolor\":\"#506784\",\"ticks\":\"\"}},\"ternary\":{\"bgcolor\":\"rgb(17,17,17)\",\"aaxis\":{\"gridcolor\":\"#506784\",\"linecolor\":\"#506784\",\"ticks\":\"\"},\"baxis\":{\"gridcolor\":\"#506784\",\"linecolor\":\"#506784\",\"ticks\":\"\"},\"caxis\":{\"gridcolor\":\"#506784\",\"linecolor\":\"#506784\",\"ticks\":\"\"}},\"coloraxis\":{\"colorbar\":{\"outlinewidth\":0,\"ticks\":\"\"}},\"colorscale\":{\"sequential\":[[0.0,\"#0d0887\"],[0.1111111111111111,\"#46039f\"],[0.2222222222222222,\"#7201a8\"],[0.3333333333333333,\"#9c179e\"],[0.4444444444444444,\"#bd3786\"],[0.5555555555555556,\"#d8576b\"],[0.6666666666666666,\"#ed7953\"],[0.7777777777777778,\"#fb9f3a\"],[0.8888888888888888,\"#fdca26\"],[1.0,\"#f0f921\"]],\"sequentialminus\":[[0.0,\"#0d0887\"],[0.1111111111111111,\"#46039f\"],[0.2222222222222222,\"#7201a8\"],[0.3333333333333333,\"#9c179e\"],[0.4444444444444444,\"#bd3786\"],[0.5555555555555556,\"#d8576b\"],[0.6666666666666666,\"#ed7953\"],[0.7777777777777778,\"#fb9f3a\"],[0.8888888888888888,\"#fdca26\"],[1.0,\"#f0f921\"]],\"diverging\":[[0,\"#8e0152\"],[0.1,\"#c51b7d\"],[0.2,\"#de77ae\"],[0.3,\"#f1b6da\"],[0.4,\"#fde0ef\"],[0.5,\"#f7f7f7\"],[0.6,\"#e6f5d0\"],[0.7,\"#b8e186\"],[0.8,\"#7fbc41\"],[0.9,\"#4d9221\"],[1,\"#276419\"]]},\"xaxis\":{\"gridcolor\":\"#283442\",\"linecolor\":\"#506784\",\"ticks\":\"\",\"title\":{\"standoff\":15},\"zerolinecolor\":\"#283442\",\"automargin\":true,\"zerolinewidth\":2},\"yaxis\":{\"gridcolor\":\"#283442\",\"linecolor\":\"#506784\",\"ticks\":\"\",\"title\":{\"standoff\":15},\"zerolinecolor\":\"#283442\",\"automargin\":true,\"zerolinewidth\":2},\"scene\":{\"xaxis\":{\"backgroundcolor\":\"rgb(17,17,17)\",\"gridcolor\":\"#506784\",\"linecolor\":\"#506784\",\"showbackground\":true,\"ticks\":\"\",\"zerolinecolor\":\"#C8D4E3\",\"gridwidth\":2},\"yaxis\":{\"backgroundcolor\":\"rgb(17,17,17)\",\"gridcolor\":\"#506784\",\"linecolor\":\"#506784\",\"showbackground\":true,\"ticks\":\"\",\"zerolinecolor\":\"#C8D4E3\",\"gridwidth\":2},\"zaxis\":{\"backgroundcolor\":\"rgb(17,17,17)\",\"gridcolor\":\"#506784\",\"linecolor\":\"#506784\",\"showbackground\":true,\"ticks\":\"\",\"zerolinecolor\":\"#C8D4E3\",\"gridwidth\":2}},\"shapedefaults\":{\"line\":{\"color\":\"#f2f5fa\"}},\"annotationdefaults\":{\"arrowcolor\":\"#f2f5fa\",\"arrowhead\":0,\"arrowwidth\":1},\"geo\":{\"bgcolor\":\"rgb(17,17,17)\",\"landcolor\":\"rgb(17,17,17)\",\"subunitcolor\":\"#506784\",\"showland\":true,\"showlakes\":true,\"lakecolor\":\"rgb(17,17,17)\"},\"title\":{\"x\":0.05},\"updatemenudefaults\":{\"bgcolor\":\"#506784\",\"borderwidth\":0},\"sliderdefaults\":{\"bgcolor\":\"#C8D4E3\",\"borderwidth\":1,\"bordercolor\":\"rgb(17,17,17)\",\"tickwidth\":0},\"mapbox\":{\"style\":\"dark\"}}},\"xaxis\":{\"anchor\":\"y\",\"domain\":[0.0,1.0],\"title\":{\"text\":\"Assists per Game\"}},\"yaxis\":{\"anchor\":\"x\",\"domain\":[0.0,1.0],\"title\":{\"text\":\"Points per Game\"}},\"legend\":{\"title\":{\"text\":\"Team\"},\"tracegroupgap\":0},\"title\":{\"text\":\"PPG vs APG by Player\"}},                        {\"responsive\": true}                    ).then(function(){\n",
       "                            \n",
       "var gd = document.getElementById('a76cdfa7-322f-4b77-9ed0-79f38f7ea4f1');\n",
       "var x = new MutationObserver(function (mutations, observer) {{\n",
       "        var display = window.getComputedStyle(gd).display;\n",
       "        if (!display || display === 'none') {{\n",
       "            console.log([gd, 'removed!']);\n",
       "            Plotly.purge(gd);\n",
       "            observer.disconnect();\n",
       "        }}\n",
       "}});\n",
       "\n",
       "// Listen for the removal of the full notebook cells\n",
       "var notebookContainer = gd.closest('#notebook-container');\n",
       "if (notebookContainer) {{\n",
       "    x.observe(notebookContainer, {childList: true});\n",
       "}}\n",
       "\n",
       "// Listen for the clearing of the current output cell\n",
       "var outputEl = gd.closest('.output');\n",
       "if (outputEl) {{\n",
       "    x.observe(outputEl, {childList: true});\n",
       "}}\n",
       "\n",
       "                        })                };                });            </script>        </div>"
      ]
     },
     "metadata": {},
     "output_type": "display_data"
    }
   ],
   "execution_count": 28
  },
  {
   "metadata": {},
   "cell_type": "code",
   "outputs": [],
   "execution_count": null,
   "source": "",
   "id": "9b8256781c3e52f3"
  }
 ],
 "metadata": {
  "kernelspec": {
   "display_name": "Python 3",
   "language": "python",
   "name": "python3"
  },
  "language_info": {
   "codemirror_mode": {
    "name": "ipython",
    "version": 2
   },
   "file_extension": ".py",
   "mimetype": "text/x-python",
   "name": "python",
   "nbconvert_exporter": "python",
   "pygments_lexer": "ipython2",
   "version": "2.7.6"
  }
 },
 "nbformat": 4,
 "nbformat_minor": 5
}
